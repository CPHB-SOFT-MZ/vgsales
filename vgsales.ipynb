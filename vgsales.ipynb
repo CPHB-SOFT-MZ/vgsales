{
 "cells": [
  {
   "cell_type": "code",
   "execution_count": 1,
   "metadata": {
    "collapsed": false,
    "deletable": true,
    "editable": true
   },
   "outputs": [
    {
     "name": "stdout",
     "output_type": "stream",
     "text": [
      "NA: X360\n",
      "EU: PS3\n",
      "JP: DS\n"
     ]
    }
   ],
   "source": [
    "import numpy\n",
    "import pandas\n",
    "\n",
    "vgsales = pandas.read_csv(\"vgsales.csv\")\n",
    "# vgsales\n",
    "\n",
    "dd = vgsales.as_matrix()\n",
    "\n",
    "platforms = numpy.unique(dd[:,2])\n",
    "\n",
    "na = numpy.array([numpy.sum(dd[(dd[:,2] == platform)][:,6]) for platform in platforms])\n",
    "eu = numpy.array([numpy.sum(dd[(dd[:,2] == platform)][:,7]) for platform in platforms])\n",
    "jp = numpy.array([numpy.sum(dd[(dd[:,2] == platform)][:,8]) for platform in platforms])\n",
    "\n",
    "print(\"NA: \" + platforms[numpy.argmax(na)])\n",
    "print(\"EU: \" + platforms[numpy.argmax(eu)])\n",
    "print(\"JP: \" + platforms[numpy.argmax(jp)])"
   ]
  },
  {
   "cell_type": "code",
   "execution_count": 13,
   "metadata": {
    "collapsed": false,
    "deletable": true,
    "editable": true
   },
   "outputs": [
    {
     "name": "stdout",
     "output_type": "stream",
     "text": [
      "NA shares of global sales in %\n",
      "49.24588921622364\n"
     ]
    }
   ],
   "source": [
    "global_sales = numpy.sum(dd[:,-1])\n",
    "na_sales = numpy.sum(dd[:,6])\n",
    "\n",
    "print(\"NA shares of global sales in %\")\n",
    "print((na_sales / global_sales)*100)"
   ]
  },
  {
   "cell_type": "code",
   "execution_count": 21,
   "metadata": {
    "collapsed": false,
    "deletable": true,
    "editable": true
   },
   "outputs": [
    {
     "name": "stdout",
     "output_type": "stream",
     "text": [
      "Most sold genre in 2012: Action\n"
     ]
    }
   ],
   "source": [
    "genres = numpy.unique(dd[:,4])\n",
    "sales = numpy.array([numpy.sum(dd[(dd[:,3] == 2012) & (dd[:,4] == genre)][:,-1]) for genre in genres])\n",
    "print(\"Most sold genre in 2012: \" + genres[numpy.argmax(sales)])"
   ]
  },
  {
   "cell_type": "code",
   "execution_count": 75,
   "metadata": {
    "collapsed": false,
    "deletable": true,
    "editable": true
   },
   "outputs": [
    {
     "name": "stdout",
     "output_type": "stream",
     "text": [
      "Nintendo has most games in top 100 with 52\n"
     ]
    }
   ],
   "source": [
    "publishers, counts = numpy.unique(dd[(dd[:,0] <= 100)][:,5], return_counts=True)\n",
    "print(publishers[numpy.argmax(counts)],\"has most games in top 100 with\", counts[numpy.argmax(counts)])"
   ]
  },
  {
   "cell_type": "code",
   "execution_count": 77,
   "metadata": {
    "collapsed": false,
    "deletable": true,
    "editable": true
   },
   "outputs": [
    {
     "name": "stdout",
     "output_type": "stream",
     "text": [
      "Most titles released in 2009\n"
     ]
    }
   ],
   "source": [
    "years, counts = numpy.unique(dd[(~pandas.isnull(dd[:,3]))][:,3], return_counts=True)\n",
    "print(\"Most titles released in\",int(years[numpy.argmax(counts)]))"
   ]
  },
  {
   "cell_type": "code",
   "execution_count": 15,
   "metadata": {
    "collapsed": false,
    "deletable": true,
    "editable": true
   },
   "outputs": [
    {
     "name": "stdout",
     "output_type": "stream",
     "text": [
      "NA has sold 7.771487709305073 video games per person.\n",
      "EU has sold 3.278501505821992 video games per person.\n",
      "Japan has sold 10.176730253822338 video games per person.\n",
      "Which means Japan has sold most vidoe games per person.\n"
     ]
    }
   ],
   "source": [
    "na_pop = 565265000 # Values found on Wikiperdia : https://en.wikipedia.org/wiki/North_America\n",
    "eu_pop = 742452000 # https://en.wikipedia.org/wiki/Europe\n",
    "jp_pop = 126860000 # https://en.wikipedia.org/wiki/Japan\n",
    "\n",
    "na_sales_per_person = (numpy.sum(dd[:,6]) * 1000000) / na_pop\n",
    "eu_sales_per_person = (numpy.sum(dd[:,7]) * 1000000) / eu_pop\n",
    "jp_sales_per_person = (numpy.sum(dd[:,8]) * 1000000) / jp_pop\n",
    "\n",
    "answer = max(na_sales_per_person, eu_sales_per_person, jp_sales_per_person)\n",
    "\n",
    "print(\"NA has sold \" + str(na_sales_per_person) + \" video games per person.\")\n",
    "print(\"EU has sold \" + str(eu_sales_per_person) + \" video games per person.\")\n",
    "print(\"Japan has sold \" + str(jp_sales_per_person) + \" video games per person.\")\n",
    "print(\"Which means Japan has sold most vidoe games per person.\")"
   ]
  },
  {
   "cell_type": "code",
   "execution_count": null,
   "metadata": {
    "collapsed": true
   },
   "outputs": [],
   "source": []
  }
 ],
 "metadata": {
  "kernelspec": {
   "display_name": "Python 3",
   "language": "python",
   "name": "python3"
  },
  "language_info": {
   "codemirror_mode": {
    "name": "ipython",
    "version": 3
   },
   "file_extension": ".py",
   "mimetype": "text/x-python",
   "name": "python",
   "nbconvert_exporter": "python",
   "pygments_lexer": "ipython3",
   "version": "3.4.3"
  }
 },
 "nbformat": 4,
 "nbformat_minor": 0
}
