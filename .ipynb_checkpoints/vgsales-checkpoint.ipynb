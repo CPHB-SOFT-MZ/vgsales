{
 "cells": [
  {
   "cell_type": "code",
   "execution_count": 72,
   "metadata": {
    "collapsed": false,
    "deletable": true,
    "editable": true
   },
   "outputs": [
    {
     "name": "stdout",
     "output_type": "stream",
     "text": [
      "NA: X360\n",
      "EU: PS3\n",
      "JP: DS\n"
     ]
    }
   ],
   "source": [
    "import numpy\n",
    "import pandas\n",
    "\n",
    "vgsales = pandas.read_csv(\"vgsales.csv\")\n",
    "# vgsales\n",
    "\n",
    "dd = vgsales.as_matrix()\n",
    "\n",
    "platforms = numpy.unique(dd[:,2])\n",
    "\n",
    "na = numpy.array([numpy.sum(dd[(dd[:,2] == platform)][:,6]) for platform in platforms])\n",
    "eu = numpy.array([numpy.sum(dd[(dd[:,2] == platform)][:,7]) for platform in platforms])\n",
    "jp = numpy.array([numpy.sum(dd[(dd[:,2] == platform)][:,8]) for platform in platforms])\n",
    "\n",
    "print(\"NA: \" + platforms[numpy.argmax(na)])\n",
    "print(\"EU: \" + platforms[numpy.argmax(eu)])\n",
    "print(\"JP: \" + platforms[numpy.argmax(jp)])"
   ]
  },
  {
   "cell_type": "code",
   "execution_count": 13,
   "metadata": {
    "collapsed": false,
    "deletable": true,
    "editable": true
   },
   "outputs": [
    {
     "name": "stdout",
     "output_type": "stream",
     "text": [
      "NA shares of global sales in %\n",
      "49.24588921622364\n"
     ]
    }
   ],
   "source": [
    "global_sales = numpy.sum(dd[:,-1])\n",
    "na_sales = numpy.sum(dd[:,6])\n",
    "\n",
    "print(\"NA shares of global sales in %\")\n",
    "print((na_sales / global_sales)*100)"
   ]
  },
  {
   "cell_type": "code",
   "execution_count": 21,
   "metadata": {
    "collapsed": false
   },
   "outputs": [
    {
     "name": "stdout",
     "output_type": "stream",
     "text": [
      "Most sold genre in 2012: Action\n"
     ]
    }
   ],
   "source": [
    "genres = numpy.unique(dd[:,4])\n",
    "sales = numpy.array([numpy.sum(dd[(dd[:,3] == 2012) & (dd[:,4] == genre)][:,-1]) for genre in genres])\n",
    "print(\"Most sold genre in 2012: \" + genres[numpy.argmax(sales)])"
   ]
  },
  {
   "cell_type": "code",
   "execution_count": 51,
   "metadata": {
    "collapsed": false
   },
   "outputs": [
    {
     "name": "stdout",
     "output_type": "stream",
     "text": [
      "['Activision' 'Atari' 'Bethesda Softworks' 'Electronic Arts'\n",
      " 'Microsoft Game Studios' 'Nintendo' 'Sega' 'Sony Computer Entertainment'\n",
      " 'SquareSoft' 'Take-Two Interactive' 'Ubisoft']\n",
      "Nintendo has most games in top 100 with 52\n"
     ]
    }
   ],
   "source": [
    "publishers, counts = numpy.unique(dd[(dd[:,0] <= 100)][:,5], return_counts=True)\n",
    "print(publishers[numpy.argmax(counts)],\"has most games in top 100 with\", counts[numpy.argmax(counts)])"
   ]
  },
  {
   "cell_type": "code",
   "execution_count": 71,
   "metadata": {
    "collapsed": false
   },
   "outputs": [
    {
     "name": "stdout",
     "output_type": "stream",
     "text": [
      "[1980.0 1981.0 1982.0 nan 1982.0 1983.0 1984.0 1985.0 1986.0 1987.0 1988.0\n",
      " 1989.0 nan 1988.0 1989.0 nan 1989.0 1990.0 nan 1989.0 1990.0 1991.0 nan\n",
      " 1991.0 1992.0 nan 1991.0 1992.0 1993.0 nan 1993.0 1994.0 nan 1994.0 nan\n",
      " 1994.0 nan 1994.0 nan 1994.0 nan 1994.0 nan 1994.0 nan 1994.0 nan 1994.0\n",
      " nan 1994.0 nan 1994.0 nan 1994.0 nan 1994.0 nan 1994.0 nan 1994.0 nan nan\n",
      " 1994.0 1995.0 nan 1995.0 nan 1995.0 nan 1995.0 nan 1995.0 nan 1995.0 nan\n",
      " 1995.0 nan 1995.0 nan 1995.0 nan 1995.0 nan 1995.0 nan 1995.0 nan 1995.0\n",
      " 1996.0 1997.0 1998.0 1999.0 2000.0 nan 2000.0 2001.0 nan 2001.0 2002.0 nan\n",
      " 2002.0 nan 2002.0 nan nan 2002.0 nan 2002.0 2003.0 nan 2003.0 nan 2003.0\n",
      " 2004.0 nan 2004.0 nan 2004.0 nan nan 2004.0 nan 2004.0 nan 2004.0 nan\n",
      " 2004.0 nan 2004.0 nan 2004.0 nan 2004.0 nan 2004.0 nan 2004.0 nan 2004.0\n",
      " nan 2004.0 nan 2004.0 2005.0 nan nan 2005.0 nan 2005.0 nan 2005.0 nan\n",
      " 2005.0 nan 2005.0 nan 2005.0 nan 2005.0 nan 2005.0 nan 2005.0 nan 2005.0\n",
      " nan 2005.0 nan 2005.0 nan 2005.0 nan 2005.0 nan 2005.0 nan 2005.0 nan\n",
      " 2005.0 nan 2005.0 nan 2005.0 nan 2005.0 nan 2005.0 2006.0 nan 2006.0 nan\n",
      " 2006.0 nan 2006.0 nan 2006.0 nan 2006.0 nan 2006.0 nan 2006.0 nan 2006.0\n",
      " nan 2006.0 nan 2006.0 nan 2006.0 nan 2006.0 nan 2006.0 nan 2006.0 nan\n",
      " 2006.0 nan nan 2006.0 nan 2006.0 nan 2006.0 nan 2006.0 nan 2006.0 nan nan\n",
      " 2006.0 nan nan 2006.0 nan nan 2006.0 nan 2006.0 nan 2006.0 nan 2006.0 nan\n",
      " nan 2006.0 nan 2006.0 nan 2006.0 nan 2006.0 nan 2006.0 nan 2006.0 nan\n",
      " 2006.0 nan 2006.0 nan nan 2006.0 nan 2006.0 nan 2006.0 nan 2006.0 nan\n",
      " 2006.0 nan 2006.0 nan 2006.0 nan 2006.0 nan nan 2006.0 nan 2006.0 nan nan\n",
      " 2006.0 nan 2006.0 nan 2006.0 nan 2006.0 nan 2006.0 nan 2006.0 nan 2006.0\n",
      " nan nan 2006.0 nan 2006.0 nan 2006.0 nan 2006.0 nan 2006.0 nan 2006.0 nan\n",
      " 2006.0 nan 2006.0 nan 2006.0 nan nan 2006.0 nan 2006.0 nan 2006.0 nan nan\n",
      " 2006.0 nan 2006.0 nan 2006.0 nan 2006.0 nan 2006.0 nan 2006.0 nan 2006.0\n",
      " nan 2006.0 nan 2006.0 nan 2006.0 nan 2006.0 nan 2006.0 nan 2006.0 nan\n",
      " 2006.0 nan 2006.0 nan 2006.0 nan nan nan 2006.0 nan 2006.0 nan 2006.0 nan\n",
      " 2006.0 nan 2006.0 nan 2006.0 nan 2006.0 nan 2006.0 nan 2006.0 nan 2006.0\n",
      " nan 2006.0 nan 2006.0 nan nan 2006.0 nan 2006.0 nan 2006.0 nan 2006.0\n",
      " 2007.0 nan 2007.0 nan 2007.0 nan 2007.0 nan 2007.0 nan 2007.0 nan 2007.0\n",
      " nan 2007.0 nan 2007.0 nan 2007.0 2008.0 2009.0 nan 2009.0 nan 2009.0 nan\n",
      " 2009.0 2010.0 nan 2010.0 nan 2010.0 nan 2010.0 nan 2010.0 nan 2010.0 nan\n",
      " 2010.0 nan 2010.0 nan 2010.0 nan 2010.0 2011.0 nan 2011.0 nan 2011.0 nan\n",
      " 2011.0 nan 2011.0 nan 2011.0 nan 2011.0 nan 2011.0 nan 2011.0 nan 2011.0\n",
      " nan 2011.0 nan 2011.0 nan 2011.0 nan 2011.0 nan 2011.0 nan 2011.0 nan\n",
      " 2011.0 nan 2011.0 nan 2011.0 nan 2011.0 nan 2011.0 nan 2011.0 nan 2011.0\n",
      " nan 2011.0 nan 2011.0 nan 2011.0 2012.0 nan 2012.0 nan 2012.0 nan 2012.0\n",
      " nan 2012.0 nan 2012.0 nan 2012.0 nan 2012.0 nan 2012.0 nan 2012.0 nan\n",
      " 2012.0 nan 2012.0 nan 2012.0 nan 2012.0 nan 2012.0 nan 2012.0 2013.0 nan\n",
      " 2013.0 2014.0 2015.0 nan 2015.0 nan 2015.0 nan 2015.0 nan 2015.0 nan\n",
      " 2015.0 nan 2015.0 nan 2015.0 nan 2015.0 nan 2015.0 nan nan 2015.0 nan\n",
      " 2015.0 nan 2015.0 nan 2015.0 nan 2015.0 nan 2015.0 nan 2015.0 2016.0 nan\n",
      " 2016.0 2017.0 nan 2016.0 2017.0 2020.0]\n",
      "2008.0\n"
     ]
    }
   ],
   "source": [
    "years, counts = numpy.unique(dd[(dd[:,3] != 'nan')][:,3], return_counts=True)\n",
    "print(years)\n",
    "print(years[numpy.argmax(counts)])"
   ]
  },
  {
   "cell_type": "code",
   "execution_count": null,
   "metadata": {
    "collapsed": true
   },
   "outputs": [],
   "source": []
  }
 ],
 "metadata": {
  "kernelspec": {
   "display_name": "Python 3",
   "language": "python",
   "name": "python3"
  },
  "language_info": {
   "codemirror_mode": {
    "name": "ipython",
    "version": 3
   },
   "file_extension": ".py",
   "mimetype": "text/x-python",
   "name": "python",
   "nbconvert_exporter": "python",
   "pygments_lexer": "ipython3",
   "version": "3.6.0"
  }
 },
 "nbformat": 4,
 "nbformat_minor": 0
}
